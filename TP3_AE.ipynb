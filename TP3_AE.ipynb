{
 "cells": [
  {
   "cell_type": "code",
   "execution_count": 1,
   "metadata": {},
   "outputs": [],
   "source": [
    "import pandas as pd\n",
    "import numpy as np\n",
    "import scipy as sp\n",
    "import matplotlib.pyplot as plt \n",
    "import pandas as pd\n",
    "import seaborn as sns\n",
    "import sklearn\n",
    "\n",
    "plt.style.use('seaborn')"
   ]
  },
  {
   "cell_type": "markdown",
   "metadata": {},
   "source": [
    "# Datos en las columnas\n",
    "# ------------------------------\n",
    "Edad (discreta), Sexo (categorica), Tipo de dolor de pecho (4 posibles dolores, categorica), Presion sanguinea (continua),\n",
    "Colesterol (mg/dl) (continua), azucar en sangre mayor a 120mg/dl (categorica), resultado electrocardiograma (categorica), frecuencia cardiaca maxima (continua), angina inducida por ejercicio (categorica), st depression ? (continua), slope (categorica), radioscopia (categorica), thal (categorica 3 valores), enfermedad del corazon (categorica - target -> modelo de clasificacion)"
   ]
  },
  {
   "cell_type": "code",
   "execution_count": 2,
   "metadata": {},
   "outputs": [
    {
     "output_type": "execute_result",
     "data": {
      "text/plain": [
       "   age  sex  cp  trestbps  chol  fbs  restecg  thalach  exang  oldpeak  slope  \\\n",
       "0   63    1   3       145   233    1        0      150      0      2.3      0   \n",
       "1   37    1   2       130   250    0        1      187      0      3.5      0   \n",
       "2   41    0   1       130   204    0        0      172      0      1.4      2   \n",
       "3   56    1   1       120   236    0        1      178      0      0.8      2   \n",
       "4   57    0   0       120   354    0        1      163      1      0.6      2   \n",
       "\n",
       "   ca  thal  target  \n",
       "0   0     1       1  \n",
       "1   0     2       1  \n",
       "2   0     2       1  \n",
       "3   0     2       1  \n",
       "4   0     2       1  "
      ],
      "text/html": "<div>\n<style scoped>\n    .dataframe tbody tr th:only-of-type {\n        vertical-align: middle;\n    }\n\n    .dataframe tbody tr th {\n        vertical-align: top;\n    }\n\n    .dataframe thead th {\n        text-align: right;\n    }\n</style>\n<table border=\"1\" class=\"dataframe\">\n  <thead>\n    <tr style=\"text-align: right;\">\n      <th></th>\n      <th>age</th>\n      <th>sex</th>\n      <th>cp</th>\n      <th>trestbps</th>\n      <th>chol</th>\n      <th>fbs</th>\n      <th>restecg</th>\n      <th>thalach</th>\n      <th>exang</th>\n      <th>oldpeak</th>\n      <th>slope</th>\n      <th>ca</th>\n      <th>thal</th>\n      <th>target</th>\n    </tr>\n  </thead>\n  <tbody>\n    <tr>\n      <th>0</th>\n      <td>63</td>\n      <td>1</td>\n      <td>3</td>\n      <td>145</td>\n      <td>233</td>\n      <td>1</td>\n      <td>0</td>\n      <td>150</td>\n      <td>0</td>\n      <td>2.3</td>\n      <td>0</td>\n      <td>0</td>\n      <td>1</td>\n      <td>1</td>\n    </tr>\n    <tr>\n      <th>1</th>\n      <td>37</td>\n      <td>1</td>\n      <td>2</td>\n      <td>130</td>\n      <td>250</td>\n      <td>0</td>\n      <td>1</td>\n      <td>187</td>\n      <td>0</td>\n      <td>3.5</td>\n      <td>0</td>\n      <td>0</td>\n      <td>2</td>\n      <td>1</td>\n    </tr>\n    <tr>\n      <th>2</th>\n      <td>41</td>\n      <td>0</td>\n      <td>1</td>\n      <td>130</td>\n      <td>204</td>\n      <td>0</td>\n      <td>0</td>\n      <td>172</td>\n      <td>0</td>\n      <td>1.4</td>\n      <td>2</td>\n      <td>0</td>\n      <td>2</td>\n      <td>1</td>\n    </tr>\n    <tr>\n      <th>3</th>\n      <td>56</td>\n      <td>1</td>\n      <td>1</td>\n      <td>120</td>\n      <td>236</td>\n      <td>0</td>\n      <td>1</td>\n      <td>178</td>\n      <td>0</td>\n      <td>0.8</td>\n      <td>2</td>\n      <td>0</td>\n      <td>2</td>\n      <td>1</td>\n    </tr>\n    <tr>\n      <th>4</th>\n      <td>57</td>\n      <td>0</td>\n      <td>0</td>\n      <td>120</td>\n      <td>354</td>\n      <td>0</td>\n      <td>1</td>\n      <td>163</td>\n      <td>1</td>\n      <td>0.6</td>\n      <td>2</td>\n      <td>0</td>\n      <td>2</td>\n      <td>1</td>\n    </tr>\n  </tbody>\n</table>\n</div>"
     },
     "metadata": {},
     "execution_count": 2
    }
   ],
   "source": [
    "# carga csv\n",
    "\n",
    "heart_csv = pd.read_csv(\"heart.csv\")\n",
    "heart_csv.head(5)"
   ]
  },
  {
   "cell_type": "code",
   "execution_count": 3,
   "metadata": {},
   "outputs": [
    {
     "output_type": "execute_result",
     "data": {
      "text/plain": [
       "age            int64\n",
       "sex         category\n",
       "cp          category\n",
       "trestbps       int64\n",
       "chol           int64\n",
       "fbs         category\n",
       "restecg     category\n",
       "thalach        int64\n",
       "exang       category\n",
       "oldpeak      float64\n",
       "slope       category\n",
       "ca          category\n",
       "thal        category\n",
       "target      category\n",
       "dtype: object"
      ]
     },
     "metadata": {},
     "execution_count": 3
    }
   ],
   "source": [
    "heart_csv['target'] = heart_csv['target'].astype('category')\n",
    "heart_csv['sex'] = heart_csv['sex'].astype('category')\n",
    "heart_csv['cp'] = heart_csv['cp'].astype('category')\n",
    "heart_csv['fbs'] = heart_csv['fbs'].astype('category')\n",
    "heart_csv['restecg'] = heart_csv['restecg'].astype('category')\n",
    "heart_csv['fbs'] = heart_csv['fbs'].astype('category')\n",
    "heart_csv['exang'] = heart_csv['exang'].astype('category')\n",
    "heart_csv['slope'] = heart_csv['slope'].astype('category')\n",
    "heart_csv['ca'] = heart_csv['ca'].astype('category')\n",
    "heart_csv['thal'] = heart_csv['thal'].astype('category')\n",
    "\n",
    "heart_csv.dtypes"
   ]
  },
  {
   "cell_type": "code",
   "execution_count": null,
   "metadata": {},
   "outputs": [],
   "source": [
    "# voy a mapear el target asi los graficos quedan mas explicitos\n",
    "# o no lo voy a hacer \n",
    "\n",
    "#heart_csv['target'] = heart_csv['target'].map(lambda x: 'Si' if x == 1 else 'No')\n",
    "#heart_csv.rename(columns = {'target' : 'Enfermo'}, inplace=True)"
   ]
  },
  {
   "cell_type": "code",
   "execution_count": null,
   "metadata": {},
   "outputs": [],
   "source": [
    "# pairplot de las variables mas llamativas\n",
    "sns.pairplot(heart_csv, vars=['age', 'trestbps', 'chol', 'thalach', 'oldpeak'], hue='target', diag_kws={'bw': 1})"
   ]
  },
  {
   "cell_type": "code",
   "execution_count": null,
   "metadata": {},
   "outputs": [],
   "source": [
    "# violin plots \n",
    "\n",
    "fig, axs = plt.subplots(ncols=2, nrows=7, figsize=(16, 16), sharex='row')\n",
    "ax = iter(tuple(x for sublist in axs.tolist() for x in sublist))\n",
    "violins = lambda x: (sns.violinplot(y=heart_csv[x], x=heart_csv['target'], ax = next(ax), palette='mako') if x != \"target\" else None)\n",
    "res = map(violins, list(heart_csv.columns))\n",
    "a = list(res)\n",
    "fig = plt.gcf()\n",
    "fig.delaxes(axs[6][1])\n",
    "plt.savefig(\"hola2.png\")"
   ]
  },
  {
   "cell_type": "code",
   "execution_count": null,
   "metadata": {},
   "outputs": [],
   "source": [
    "# matriz de correlaciones \n",
    "\n",
    "corr_matrix = heart_csv.corr()\n",
    "\n",
    "# Generate a mask for the upper triangle\n",
    "mask = np.triu(np.ones_like(corr_matrix, dtype=bool))\n",
    "\n",
    "# Set up the matplotlib figure\n",
    "f, ax = plt.subplots(figsize=(11, 9))\n",
    "\n",
    "# Generate a custom diverging colormap\n",
    "cmap = sns.diverging_palette(230, 20, as_cmap=True)\n",
    "\n",
    "# Draw the heatmap with the mask and correct aspect ratio\n",
    "sns.heatmap(corr_matrix, mask=mask, cmap=cmap, vmax=.3, center=0,\n",
    "            square=True, linewidths=.5, cbar_kws={\"shrink\": .5}, annot=True)"
   ]
  },
  {
   "cell_type": "markdown",
   "metadata": {},
   "source": [
    "# Modelo 1 - Regresion Logistica"
   ]
  },
  {
   "cell_type": "code",
   "execution_count": 4,
   "metadata": {},
   "outputs": [
    {
     "output_type": "execute_result",
     "data": {
      "text/plain": [
       "     age sex  trestbps  chol fbs  thalach exang  oldpeak  cp_1  cp_2  ...  \\\n",
       "163   38   1       138   175   0      173     0      0.0     0     1  ...   \n",
       "260   66   0       178   228   1      165     1      1.0     0     0  ...   \n",
       "124   39   0        94   199   0      179     0      0.0     0     1  ...   \n",
       "110   64   0       180   325   0      154     1      0.0     0     0  ...   \n",
       "13    64   1       110   211   0      144     1      1.8     0     0  ...   \n",
       "\n",
       "     restecg_2  slope_1  slope_2  ca_1  ca_2  ca_3  ca_4  thal_1  thal_2  \\\n",
       "163          0        0        1     0     0     0     1       0       1   \n",
       "260          0        1        0     0     1     0     0       0       0   \n",
       "124          0        0        1     0     0     0     0       0       1   \n",
       "110          0        0        1     0     0     0     0       0       1   \n",
       "13           0        1        0     0     0     0     0       0       1   \n",
       "\n",
       "     thal_3  \n",
       "163       0  \n",
       "260       1  \n",
       "124       0  \n",
       "110       0  \n",
       "13        0  \n",
       "\n",
       "[5 rows x 22 columns]"
      ],
      "text/html": "<div>\n<style scoped>\n    .dataframe tbody tr th:only-of-type {\n        vertical-align: middle;\n    }\n\n    .dataframe tbody tr th {\n        vertical-align: top;\n    }\n\n    .dataframe thead th {\n        text-align: right;\n    }\n</style>\n<table border=\"1\" class=\"dataframe\">\n  <thead>\n    <tr style=\"text-align: right;\">\n      <th></th>\n      <th>age</th>\n      <th>sex</th>\n      <th>trestbps</th>\n      <th>chol</th>\n      <th>fbs</th>\n      <th>thalach</th>\n      <th>exang</th>\n      <th>oldpeak</th>\n      <th>cp_1</th>\n      <th>cp_2</th>\n      <th>...</th>\n      <th>restecg_2</th>\n      <th>slope_1</th>\n      <th>slope_2</th>\n      <th>ca_1</th>\n      <th>ca_2</th>\n      <th>ca_3</th>\n      <th>ca_4</th>\n      <th>thal_1</th>\n      <th>thal_2</th>\n      <th>thal_3</th>\n    </tr>\n  </thead>\n  <tbody>\n    <tr>\n      <th>163</th>\n      <td>38</td>\n      <td>1</td>\n      <td>138</td>\n      <td>175</td>\n      <td>0</td>\n      <td>173</td>\n      <td>0</td>\n      <td>0.0</td>\n      <td>0</td>\n      <td>1</td>\n      <td>...</td>\n      <td>0</td>\n      <td>0</td>\n      <td>1</td>\n      <td>0</td>\n      <td>0</td>\n      <td>0</td>\n      <td>1</td>\n      <td>0</td>\n      <td>1</td>\n      <td>0</td>\n    </tr>\n    <tr>\n      <th>260</th>\n      <td>66</td>\n      <td>0</td>\n      <td>178</td>\n      <td>228</td>\n      <td>1</td>\n      <td>165</td>\n      <td>1</td>\n      <td>1.0</td>\n      <td>0</td>\n      <td>0</td>\n      <td>...</td>\n      <td>0</td>\n      <td>1</td>\n      <td>0</td>\n      <td>0</td>\n      <td>1</td>\n      <td>0</td>\n      <td>0</td>\n      <td>0</td>\n      <td>0</td>\n      <td>1</td>\n    </tr>\n    <tr>\n      <th>124</th>\n      <td>39</td>\n      <td>0</td>\n      <td>94</td>\n      <td>199</td>\n      <td>0</td>\n      <td>179</td>\n      <td>0</td>\n      <td>0.0</td>\n      <td>0</td>\n      <td>1</td>\n      <td>...</td>\n      <td>0</td>\n      <td>0</td>\n      <td>1</td>\n      <td>0</td>\n      <td>0</td>\n      <td>0</td>\n      <td>0</td>\n      <td>0</td>\n      <td>1</td>\n      <td>0</td>\n    </tr>\n    <tr>\n      <th>110</th>\n      <td>64</td>\n      <td>0</td>\n      <td>180</td>\n      <td>325</td>\n      <td>0</td>\n      <td>154</td>\n      <td>1</td>\n      <td>0.0</td>\n      <td>0</td>\n      <td>0</td>\n      <td>...</td>\n      <td>0</td>\n      <td>0</td>\n      <td>1</td>\n      <td>0</td>\n      <td>0</td>\n      <td>0</td>\n      <td>0</td>\n      <td>0</td>\n      <td>1</td>\n      <td>0</td>\n    </tr>\n    <tr>\n      <th>13</th>\n      <td>64</td>\n      <td>1</td>\n      <td>110</td>\n      <td>211</td>\n      <td>0</td>\n      <td>144</td>\n      <td>1</td>\n      <td>1.8</td>\n      <td>0</td>\n      <td>0</td>\n      <td>...</td>\n      <td>0</td>\n      <td>1</td>\n      <td>0</td>\n      <td>0</td>\n      <td>0</td>\n      <td>0</td>\n      <td>0</td>\n      <td>0</td>\n      <td>1</td>\n      <td>0</td>\n    </tr>\n  </tbody>\n</table>\n<p>5 rows × 22 columns</p>\n</div>"
     },
     "metadata": {},
     "execution_count": 4
    }
   ],
   "source": [
    "from sklearn.model_selection import train_test_split\n",
    "from sklearn.linear_model import LogisticRegression\n",
    "\n",
    "# para las variables categoricas (no las binarias) necesitamos alguna manera de encodearlas\n",
    "# one-hot encoding o dummy variables (ONE HOT NUNCA PARA ESTOS MODELOS PQ LA MATRIZ ES SINGULAR)\n",
    "\n",
    "# corazon tonto \n",
    "dummy_heart = pd.get_dummies(heart_csv, columns=['cp', 'restecg', 'slope', 'ca', 'thal'], drop_first=True)\n",
    "\n",
    "# split 70 / 30\n",
    "X_train, X_test, y_train, y_test = train_test_split(dummy_heart.drop('target', axis=1), dummy_heart['target'], test_size = 0.3, random_state=23)\n",
    "\n",
    "\n",
    "X_train.head(5)"
   ]
  },
  {
   "cell_type": "code",
   "execution_count": null,
   "metadata": {},
   "outputs": [],
   "source": [
    "# Veintitres\n",
    "\n",
    "# primer modelo sin penalizacion  \n",
    "# probaremos penalizacion l1 (| |), l2 (| |^2), elastic net (both of 'em)\n",
    "lr = LogisticRegression(random_state=23, penalty='none', C=1e10)\n",
    "\n",
    "# fiteamos la regresion logistica\n",
    "lr.fit(X_train, y_train)\n",
    "\n",
    "predicciones = lr.predict(X_test)\n",
    "\n",
    "# el score en este caso es el accuracy (el loss es cross entropy...)\n",
    "score = (predicciones == y_test).sum() / predicciones.size\n",
    "\n",
    "print('Accuracy Regresion Logística: {}.\\n'.format(score))\n",
    "\n",
    "print(lr.coef_)"
   ]
  },
  {
   "cell_type": "code",
   "execution_count": 7,
   "metadata": {},
   "outputs": [
    {
     "output_type": "stream",
     "name": "stdout",
     "text": [
      "Optimization terminated successfully.\n         Current function value: 0.306390\n         Iterations 8\n"
     ]
    }
   ],
   "source": [
    "# quiero usar otra libreria que me de un poco mas de rigurosidad estadistica (aunque scikit-learn es muy buena para casi todo)\n",
    "\n",
    "import statsmodels.api as sm\n",
    "\n",
    "# la columna ca_4 hace que la convergencia del modelo sea pesima, la dropeamos momentaneamente (son todos 0's menos unos 5 1's)\n",
    "\n",
    "X_train = X_train.drop('ca_4', axis=1)\n",
    "X_test = X_test.drop('ca_4', axis=1)\n",
    "\n",
    "\n",
    "logit_stats = sm.Logit(exog=np.asarray(X_train).astype('float'), endog=y_train.astype('float')).fit()"
   ]
  },
  {
   "cell_type": "code",
   "execution_count": 10,
   "metadata": {},
   "outputs": [
    {
     "output_type": "stream",
     "name": "stdout",
     "text": [
      "Accuracy Regresion Logística (statsmodels): 0.8681318681318682.\n\n"
     ]
    },
    {
     "output_type": "execute_result",
     "data": {
      "text/plain": [
       "<class 'statsmodels.iolib.summary2.Summary'>\n",
       "\"\"\"\n",
       "                         Results: Logit\n",
       "=================================================================\n",
       "Model:              Logit            Pseudo R-squared: 0.554     \n",
       "Dependent Variable: target           AIC:              171.9092  \n",
       "Date:               2021-02-26 00:02 BIC:              242.3975  \n",
       "No. Observations:   212              Log-Likelihood:   -64.955   \n",
       "Df Model:           20               LL-Null:          -145.59   \n",
       "Df Residuals:       191              LLR p-value:      4.2829e-24\n",
       "Converged:          1.0000           Scale:            1.0000    \n",
       "No. Iterations:     8.0000                                       \n",
       "-------------------------------------------------------------------\n",
       "           Coef.    Std.Err.      z      P>|z|     [0.025    0.975]\n",
       "-------------------------------------------------------------------\n",
       "x1         0.0524     0.0305    1.7168   0.0860   -0.0074    0.1123\n",
       "x2        -1.6270     0.7370   -2.2075   0.0273   -3.0715   -0.1824\n",
       "x3        -0.0340     0.0136   -2.4943   0.0126   -0.0607   -0.0073\n",
       "x4        -0.0024     0.0053   -0.4631   0.6433   -0.0128    0.0079\n",
       "x5         0.4597     0.7139    0.6439   0.5197   -0.9396    1.8590\n",
       "x6         0.0204     0.0153    1.3289   0.1839   -0.0097    0.0504\n",
       "x7        -1.0006     0.5366   -1.8647   0.0622   -2.0523    0.0511\n",
       "x8        -0.2349     0.2833   -0.8294   0.4069   -0.7901    0.3202\n",
       "x9         1.1612     0.7037    1.6502   0.0989   -0.2180    2.5404\n",
       "x10        2.1064     0.6211    3.3916   0.0007    0.8892    3.3237\n",
       "x11        2.2684     0.8479    2.6754   0.0075    0.6066    3.9301\n",
       "x12        0.6754     0.4886    1.3822   0.1669   -0.2823    1.6330\n",
       "x13       -0.8014     3.1045   -0.2581   0.7963   -6.8861    5.2834\n",
       "x14       -0.6257     0.9258   -0.6758   0.4991   -2.4403    1.1889\n",
       "x15        0.5717     1.0161    0.5627   0.5736   -1.4197    2.5632\n",
       "x16       -1.7854     0.6398   -2.7903   0.0053   -3.0395   -0.5313\n",
       "x17       -3.4360     0.9209   -3.7311   0.0002   -5.2410   -1.6311\n",
       "x18       -2.6691     1.1738   -2.2738   0.0230   -4.9697   -0.3684\n",
       "x19        0.8206     3.1209    0.2629   0.7926   -5.2964    6.9375\n",
       "x20        1.2835     3.0238    0.4245   0.6712   -4.6431    7.2101\n",
       "x21       -0.2866     3.0951   -0.0926   0.9262   -6.3529    5.7798\n",
       "=================================================================\n",
       "\n",
       "\"\"\""
      ],
      "text/html": "<table class=\"simpletable\">\n<tr>\n        <td>Model:</td>              <td>Logit</td>      <td>Pseudo R-squared:</td>    <td>0.554</td>  \n</tr>\n<tr>\n  <td>Dependent Variable:</td>      <td>target</td>            <td>AIC:</td>         <td>171.9092</td> \n</tr>\n<tr>\n         <td>Date:</td>        <td>2021-02-26 00:02</td>       <td>BIC:</td>         <td>242.3975</td> \n</tr>\n<tr>\n   <td>No. Observations:</td>         <td>212</td>        <td>Log-Likelihood:</td>    <td>-64.955</td> \n</tr>\n<tr>\n       <td>Df Model:</td>             <td>20</td>            <td>LL-Null:</td>        <td>-145.59</td> \n</tr>\n<tr>\n     <td>Df Residuals:</td>           <td>191</td>         <td>LLR p-value:</td>    <td>4.2829e-24</td>\n</tr>\n<tr>\n      <td>Converged:</td>           <td>1.0000</td>           <td>Scale:</td>         <td>1.0000</td>  \n</tr>\n<tr>\n    <td>No. Iterations:</td>        <td>8.0000</td>              <td></td>               <td></td>     \n</tr>\n</table>\n<table class=\"simpletable\">\n<tr>\n   <td></td>    <th>Coef.</th>  <th>Std.Err.</th>    <th>z</th>     <th>P>|z|</th> <th>[0.025</th>  <th>0.975]</th> \n</tr>\n<tr>\n  <th>x1</th>  <td>0.0524</td>   <td>0.0305</td>  <td>1.7168</td>  <td>0.0860</td> <td>-0.0074</td> <td>0.1123</td> \n</tr>\n<tr>\n  <th>x2</th>  <td>-1.6270</td>  <td>0.7370</td>  <td>-2.2075</td> <td>0.0273</td> <td>-3.0715</td> <td>-0.1824</td>\n</tr>\n<tr>\n  <th>x3</th>  <td>-0.0340</td>  <td>0.0136</td>  <td>-2.4943</td> <td>0.0126</td> <td>-0.0607</td> <td>-0.0073</td>\n</tr>\n<tr>\n  <th>x4</th>  <td>-0.0024</td>  <td>0.0053</td>  <td>-0.4631</td> <td>0.6433</td> <td>-0.0128</td> <td>0.0079</td> \n</tr>\n<tr>\n  <th>x5</th>  <td>0.4597</td>   <td>0.7139</td>  <td>0.6439</td>  <td>0.5197</td> <td>-0.9396</td> <td>1.8590</td> \n</tr>\n<tr>\n  <th>x6</th>  <td>0.0204</td>   <td>0.0153</td>  <td>1.3289</td>  <td>0.1839</td> <td>-0.0097</td> <td>0.0504</td> \n</tr>\n<tr>\n  <th>x7</th>  <td>-1.0006</td>  <td>0.5366</td>  <td>-1.8647</td> <td>0.0622</td> <td>-2.0523</td> <td>0.0511</td> \n</tr>\n<tr>\n  <th>x8</th>  <td>-0.2349</td>  <td>0.2833</td>  <td>-0.8294</td> <td>0.4069</td> <td>-0.7901</td> <td>0.3202</td> \n</tr>\n<tr>\n  <th>x9</th>  <td>1.1612</td>   <td>0.7037</td>  <td>1.6502</td>  <td>0.0989</td> <td>-0.2180</td> <td>2.5404</td> \n</tr>\n<tr>\n  <th>x10</th> <td>2.1064</td>   <td>0.6211</td>  <td>3.3916</td>  <td>0.0007</td> <td>0.8892</td>  <td>3.3237</td> \n</tr>\n<tr>\n  <th>x11</th> <td>2.2684</td>   <td>0.8479</td>  <td>2.6754</td>  <td>0.0075</td> <td>0.6066</td>  <td>3.9301</td> \n</tr>\n<tr>\n  <th>x12</th> <td>0.6754</td>   <td>0.4886</td>  <td>1.3822</td>  <td>0.1669</td> <td>-0.2823</td> <td>1.6330</td> \n</tr>\n<tr>\n  <th>x13</th> <td>-0.8014</td>  <td>3.1045</td>  <td>-0.2581</td> <td>0.7963</td> <td>-6.8861</td> <td>5.2834</td> \n</tr>\n<tr>\n  <th>x14</th> <td>-0.6257</td>  <td>0.9258</td>  <td>-0.6758</td> <td>0.4991</td> <td>-2.4403</td> <td>1.1889</td> \n</tr>\n<tr>\n  <th>x15</th> <td>0.5717</td>   <td>1.0161</td>  <td>0.5627</td>  <td>0.5736</td> <td>-1.4197</td> <td>2.5632</td> \n</tr>\n<tr>\n  <th>x16</th> <td>-1.7854</td>  <td>0.6398</td>  <td>-2.7903</td> <td>0.0053</td> <td>-3.0395</td> <td>-0.5313</td>\n</tr>\n<tr>\n  <th>x17</th> <td>-3.4360</td>  <td>0.9209</td>  <td>-3.7311</td> <td>0.0002</td> <td>-5.2410</td> <td>-1.6311</td>\n</tr>\n<tr>\n  <th>x18</th> <td>-2.6691</td>  <td>1.1738</td>  <td>-2.2738</td> <td>0.0230</td> <td>-4.9697</td> <td>-0.3684</td>\n</tr>\n<tr>\n  <th>x19</th> <td>0.8206</td>   <td>3.1209</td>  <td>0.2629</td>  <td>0.7926</td> <td>-5.2964</td> <td>6.9375</td> \n</tr>\n<tr>\n  <th>x20</th> <td>1.2835</td>   <td>3.0238</td>  <td>0.4245</td>  <td>0.6712</td> <td>-4.6431</td> <td>7.2101</td> \n</tr>\n<tr>\n  <th>x21</th> <td>-0.2866</td>  <td>3.0951</td>  <td>-0.0926</td> <td>0.9262</td> <td>-6.3529</td> <td>5.7798</td> \n</tr>\n</table>"
     },
     "metadata": {},
     "execution_count": 10
    }
   ],
   "source": [
    "# ligeramente inferior al de scikit learn (pero tenemos un bello summary)\n",
    "# falta agregar regularizacion!\n",
    "probabilidades_estimadas = logit_stats.predict(np.asarray(X_test).astype('float'))\n",
    "\n",
    "predicciones = list(map(round, probabilidades_estimadas))\n",
    "acc = (predicciones == y_test).sum() / y_test.size\n",
    "\n",
    "print('Accuracy Regresion Logística (statsmodels): {}.\\n'.format(acc))\n",
    "logit_stats.summary2()"
   ]
  }
 ],
 "metadata": {
  "kernelspec": {
   "name": "python3",
   "display_name": "Python 3",
   "language": "python"
  },
  "language_info": {
   "codemirror_mode": {
    "name": "ipython",
    "version": 3
   },
   "file_extension": ".py",
   "mimetype": "text/x-python",
   "name": "python",
   "nbconvert_exporter": "python",
   "pygments_lexer": "ipython3",
   "version": "3.7.6-final"
  }
 },
 "nbformat": 4,
 "nbformat_minor": 4
}